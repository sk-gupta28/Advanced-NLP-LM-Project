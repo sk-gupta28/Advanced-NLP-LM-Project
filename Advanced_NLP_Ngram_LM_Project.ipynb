{
 "cells": [
  {
   "cell_type": "markdown",
   "id": "77b64819",
   "metadata": {},
   "source": [
    "\n",
    "# Advanced NLP Project – Implementing and Analyzing a Word-level N‑Gram Language Model\n",
    "\n",
    "**Author:** _Your Name Here_  \n",
    "**Date:** 2025-08-31\n",
    "\n",
    "## Problem Statement\n",
    "This notebook implements a classic **word‑level N‑Gram Language Model (LM)** with smoothing, provides an interactive exploration of its capabilities, evaluates performance (perplexity) on a validation set, and visualizes results. We also define research questions, discuss strengths/limitations, and align the work with ethical best practices in modern NLP.\n",
    "\n",
    "> Why N‑grams? While state‑of-the-art LMs (GPT‑style Transformers, BERT) are computationally intensive, an N‑gram LM is:\n",
    "> - Transparent (easy to interpret)\n",
    "> - Fully runnable on a laptop with no internet or GPUs\n",
    "> - Excellent for learning core LM ideas: context, smoothing, perplexity, sampling, temperature\n",
    "\n",
    "We will still **relate our findings** to modern LMs (GPT/BERT) throughout the analysis.\n"
   ]
  },
  {
   "cell_type": "markdown",
   "id": "e41068fc",
   "metadata": {},
   "source": [
    "\n",
    "## Objectives\n",
    "1. Implement a robust word‑level N‑gram LM with add‑k (Laplace) smoothing.  \n",
    "2. Explore context understanding via next‑word distributions and text generation.  \n",
    "3. Evaluate perplexity on a validation set across different N (1–4).  \n",
    "4. Visualize results to make the analysis intuitive.  \n",
    "5. Discuss alignment, limitations, and ethical considerations.\n",
    "\n",
    "## Research Questions\n",
    "- **RQ1:** How does **context length (N)** affect perplexity and sample quality?  \n",
    "- **RQ2:** How does **smoothing strength (k)** balance diversity vs accuracy?  \n",
    "- **RQ3:** How does **temperature** reshape next‑word distributions and perceived creativity?  \n",
    "- **RQ4:** In what ways does an N‑gram LM struggle compared to modern Transformers (e.g., long‑range dependencies, world knowledge)?\n"
   ]
  },
  {
   "cell_type": "code",
   "execution_count": 1,
   "id": "5b596ca4",
   "metadata": {},
   "outputs": [],
   "source": [
    "\n",
    "import math\n",
    "import random\n",
    "import re\n",
    "from collections import defaultdict, Counter\n",
    "import matplotlib.pyplot as plt\n",
    "\n",
    "random.seed(42)\n"
   ]
  },
  {
   "cell_type": "markdown",
   "id": "79e14d0f",
   "metadata": {},
   "source": [
    "\n",
    "## Data\n",
    "We build a small **mixed corpus** (public‑domain inspired snippets + synthetic paragraphs) to keep the project self‑contained. For more rigorous work, you would curate larger domain‑specific corpora.\n"
   ]
  },
  {
   "cell_type": "code",
   "execution_count": 3,
   "id": "d6884a84",
   "metadata": {},
   "outputs": [
    {
     "name": "stdout",
     "output_type": "stream",
     "text": [
      "294\n",
      "['once', 'upon', 'a', 'time', 'there', 'was', 'a', 'curious', 'cat', 'that', 'roamed', 'the', 'library', 'at', 'night', '.', 'the', 'lamps', 'hummed', 'softly', 'and', 'the', 'books', 'whispered', 'stories', 'about', 'distant', 'stars', '.', 'readers', 'returned', 'in', 'the', 'morning', 'and', 'wondered', 'why', 'the', 'tables', 'were', 'sprinkled', 'with', 'bookmarks', '.', 'in', 'a', 'quiet', 'valley', 'the', 'river']\n"
     ]
    }
   ],
   "source": [
    "\n",
    "corpus_text = \"\"\"\n",
    "Once upon a time there was a curious cat that roamed the library at night.\n",
    "The lamps hummed softly and the books whispered stories about distant stars.\n",
    "Readers returned in the morning and wondered why the tables were sprinkled with bookmarks.\n",
    "\n",
    "In a quiet valley the river folded around smooth stones and carried gossip from the hills.\n",
    "Farmers listened to the current as if it were a newspaper, learning which orchards had bloomed.\n",
    "Every spring the town painted new signs and the children marched behind a brass band.\n",
    "\n",
    "To test the machine we collect phrases, we measure surprise, and we compare predictions.\n",
    "Language models study patterns of words: which sequences are likely, which are rare.\n",
    "With enough evidence the model becomes confident; with little evidence it hedges.\n",
    "\n",
    "Shall I compare thee to a summer day? Thou art more lovely and more temperate.\n",
    "Rough winds do shake the darling buds of May, and summer’s lease hath all too short a date.\n",
    "Sometime too hot the eye of heaven shines, and often is his gold complexion dimmed.\n",
    "\n",
    "Alice saw a little bottle on the table. “Drink me,” it said, in letters of beautiful print.\n",
    "She hesitated, for she had read many tales of curious potions and unusual doors.\n",
    "Still, the hallway shimmered with possibility, and the keyhole glowed like the moon.\n",
    "\n",
    "Technology evolves quickly; models grow deeper and attention reaches across paragraphs.\n",
    "Yet the simplest baselines teach us: count carefully, smooth gently, and validate results.\n",
    "Ethics matter: avoid harmful bias, respect privacy, and document limitations clearly.\n",
    "\"\"\"\n",
    "\n",
    "# Basic cleanup & tokenization (simple, reproducible)\n",
    "def tokenize(text):\n",
    "    text = text.lower()\n",
    "    # keep simple punctuation as tokens for basic structure\n",
    "    tokens = re.findall(r\"[a-z’']+|[.,;:!?()\\-]\", text)\n",
    "    return tokens\n",
    "\n",
    "tokens = tokenize(corpus_text)\n",
    "print(len(tokens))\n",
    "print(tokens[:50])\n"
   ]
  },
  {
   "cell_type": "code",
   "execution_count": 4,
   "id": "fe22908f",
   "metadata": {},
   "outputs": [
    {
     "name": "stdout",
     "output_type": "stream",
     "text": [
      "Train tokens: 249\n",
      "Val tokens: 45\n",
      "Vocab size: 164\n"
     ]
    }
   ],
   "source": [
    "\n",
    "# Split into train/validation by proportion on token sequence\n",
    "split = int(0.85 * len(tokens))\n",
    "train_tokens = tokens[:split]\n",
    "val_tokens = tokens[split:]\n",
    "\n",
    "vocab = sorted(set(train_tokens))\n",
    "print(\"Train tokens:\", len(train_tokens))\n",
    "print(\"Val tokens:\", len(val_tokens))\n",
    "print(\"Vocab size:\", len(vocab))\n"
   ]
  },
  {
   "cell_type": "markdown",
   "id": "5283ee86",
   "metadata": {},
   "source": [
    "\n",
    "## Implementation: Word‑level N‑gram LM (with add‑k smoothing)\n",
    "We implement an N‑gram model for N in {1,2,3,4}. Context is represented by the previous `N-1` tokens.\n"
   ]
  },
  {
   "cell_type": "code",
   "execution_count": 5,
   "id": "bfe6558b",
   "metadata": {},
   "outputs": [],
   "source": [
    "\n",
    "class NGramLM:\n",
    "    def __init__(self, n=3, k=1.0):\n",
    "        assert n >= 1\n",
    "        self.n = n\n",
    "        self.k = k  # add-k smoothing\n",
    "        self.context_counts = defaultdict(Counter)\n",
    "        self.vocab = set()\n",
    "        self.total_contexts = 0\n",
    "\n",
    "    def fit(self, tokens):\n",
    "        self.vocab = set(tokens)\n",
    "        pad = [\"<s>\"] * (self.n - 1)\n",
    "        seq = pad + tokens + [\"</s>\"]\n",
    "        for i in range(self.n - 1, len(seq)):\n",
    "            context = tuple(seq[i - (self.n - 1):i])\n",
    "            word = seq[i]\n",
    "            self.context_counts[context][word] += 1\n",
    "            self.total_contexts += 1\n",
    "        return self\n",
    "\n",
    "    def next_word_prob(self, context, word):\n",
    "        # context: last n-1 tokens (already lowercased)\n",
    "        if self.n == 1:\n",
    "            # unigram: ignore context key and use a fixed pseudo-context\n",
    "            counts = Counter()\n",
    "            for c in self.context_counts:\n",
    "                counts += self.context_counts[c]\n",
    "        else:\n",
    "            counts = self.context_counts.get(tuple(context), Counter())\n",
    "        V = len(self.vocab) + 1  # include </s>\n",
    "        num = counts.get(word, 0) + self.k\n",
    "        den = sum(counts.values()) + self.k * V\n",
    "        return num / den if den > 0 else 1.0 / V\n",
    "\n",
    "    def distribution(self, context):\n",
    "        if self.n == 1:\n",
    "            counts = Counter()\n",
    "            for c in self.context_counts:\n",
    "                counts += self.context_counts[c]\n",
    "        else:\n",
    "            counts = self.context_counts.get(tuple(context), Counter())\n",
    "        V_words = list(self.vocab | set([\"</s>\"]))\n",
    "        probs = []\n",
    "        V = len(V_words)\n",
    "        den = sum(counts.values()) + self.k * V\n",
    "        if den == 0:\n",
    "            # unseen context: back off to uniform\n",
    "            return {w: 1.0 / V for w in V_words}\n",
    "        for w in V_words:\n",
    "            probs.append(((counts.get(w, 0) + self.k) / den, w))\n",
    "        return {w: p for p, w in probs}\n",
    "\n",
    "    def perplexity(self, tokens):\n",
    "        pad = [\"<s>\"] * (self.n - 1)\n",
    "        seq = pad + tokens + [\"</s>\"]\n",
    "        logprob = 0.0\n",
    "        N = 0\n",
    "        for i in range(self.n - 1, len(seq)):\n",
    "            context = tuple(seq[i - (self.n - 1):i])\n",
    "            word = seq[i]\n",
    "            p = self.next_word_prob(context, word)\n",
    "            logprob += -math.log(max(p, 1e-12))\n",
    "            N += 1\n",
    "        return math.exp(logprob / max(N,1))\n",
    "\n",
    "    def sample(self, max_len=50, temperature=1.0, prompt=None):\n",
    "        if prompt is None:\n",
    "            prompt = []\n",
    "        ctx = ([\"<s>\"] * (self.n - 1) + prompt)[-(self.n - 1):]\n",
    "        out = list(prompt)\n",
    "        for _ in range(max_len):\n",
    "            dist = self.distribution(ctx)\n",
    "            # temperature scaling\n",
    "            words, probs = zip(*dist.items())\n",
    "            scaled = [p ** (1.0 / max(temperature, 1e-6)) for p in probs]\n",
    "            s = sum(scaled)\n",
    "            scaled = [x / s for x in scaled]\n",
    "            # sample\n",
    "            r = random.random()\n",
    "            cum = 0.0\n",
    "            next_w = words[-1]\n",
    "            for w, p in zip(words, scaled):\n",
    "                cum += p\n",
    "                if r <= cum:\n",
    "                    next_w = w\n",
    "                    break\n",
    "            if next_w == \"</s>\":\n",
    "                break\n",
    "            out.append(next_w)\n",
    "            ctx = (ctx + [next_w])[-(self.n - 1):]\n",
    "        return \" \".join(out)\n"
   ]
  },
  {
   "cell_type": "code",
   "execution_count": 6,
   "id": "194620b9",
   "metadata": {},
   "outputs": [
    {
     "name": "stdout",
     "output_type": "stream",
     "text": [
      "Perplexities (lower is better):\n",
      "N=1, k=0.5: perplexity=264.74\n",
      "N=1, k=1.0: perplexity=203.69\n",
      "N=2, k=0.5: perplexity=151.76\n",
      "N=2, k=1.0: perplexity=154.38\n",
      "N=3, k=0.5: perplexity=165.38\n",
      "N=3, k=1.0: perplexity=165.19\n",
      "N=4, k=0.5: perplexity=165.04\n",
      "N=4, k=1.0: perplexity=165.02\n",
      "Chosen model: (2, 0.5)\n"
     ]
    }
   ],
   "source": [
    "\n",
    "results = []\n",
    "models = {}\n",
    "for n in [1,2,3,4]:\n",
    "    for k in [0.5, 1.0]:\n",
    "        lm = NGramLM(n=n, k=k).fit(train_tokens)\n",
    "        ppl = lm.perplexity(val_tokens)\n",
    "        results.append((n, k, ppl))\n",
    "        models[(n,k)] = lm\n",
    "\n",
    "print(\"Perplexities (lower is better):\")\n",
    "for n, k, ppl in results:\n",
    "    print(f\"N={n}, k={k}: perplexity={ppl:.2f}\")\n",
    "\n",
    "# Choose a default model for exploration: best perplexity\n",
    "best = min(results, key=lambda x: x[2])\n",
    "best_key = (best[0], best[1])\n",
    "chosen = models[best_key]\n",
    "print(\"Chosen model:\", best_key)\n"
   ]
  },
  {
   "cell_type": "code",
   "execution_count": 7,
   "id": "b442db62",
   "metadata": {},
   "outputs": [
    {
     "data": {
      "image/png": "[encoded data removed]",
      "text/plain": [
       "<Figure size 600x400 with 1 Axes>"
      ]
     },
     "metadata": {},
     "output_type": "display_data"
    }
   ],
   "source": [
    "\n",
    "# Aggregate by N (k averaged) just for a simple line visualization\n",
    "import numpy as np\n",
    "\n",
    "by_n = {}\n",
    "for n, k, ppl in results:\n",
    "    by_n.setdefault(n, []).append(ppl)\n",
    "\n",
    "ns = sorted(by_n.keys())\n",
    "avg_ppl = [sum(by_n[n])/len(by_n[n]) for n in ns]\n",
    "\n",
    "plt.figure(figsize=(6,4))\n",
    "plt.plot(ns, avg_ppl, marker='o')\n",
    "plt.title(\"Validation Perplexity vs Context Length (N)\")\n",
    "plt.xlabel(\"N (order of N-gram)\")\n",
    "plt.ylabel(\"Perplexity\")\n",
    "plt.grid(True)\n",
    "plt.show()\n"
   ]
  },
  {
   "cell_type": "markdown",
   "id": "7f7fa048",
   "metadata": {},
   "source": [
    "\n",
    "## Exploration\n",
    "We inspect the **next‑word distribution** for a given context and generate samples with different temperatures.\n"
   ]
  },
  {
   "cell_type": "code",
   "execution_count": 8,
   "id": "ae306274",
   "metadata": {},
   "outputs": [
    {
     "name": "stdout",
     "output_type": "stream",
     "text": [
      "Context: children\n",
      "     marched  0.0180\n",
      "         may  0.0060\n",
      " predictions  0.0060\n",
      "     becomes  0.0060\n",
      "         hot  0.0060\n",
      "         was  0.0060\n",
      "      lovely  0.0060\n",
      "   hesitated  0.0060\n",
      "      folded  0.0060\n",
      "         new  0.0060\n",
      "          do  0.0060\n",
      "  complexion  0.0060\n",
      "\n",
      "Temperature = 0.7\n",
      "the children bloomed was his potions keyhole readers children smooth bottle lovely eye spring was are like stones potions dimmed hills predictions hills tables still we hedges measure saw stories unusual around\n",
      "\n",
      "Temperature = 1.0\n",
      "the children the keyhole glowed moon bookmarks thou shake day time\n",
      "\n",
      "Temperature = 1.3\n",
      "the children hath folded potions tales sprinkled potions stories his books table table painted summer’s and bloomed dimmed in lamps brass drink whispered evidence band why curious were potions lovely . heaven\n"
     ]
    }
   ],
   "source": [
    "\n",
    "def show_topk_distribution(lm, context_tokens, k=10):\n",
    "    dist = lm.distribution(context_tokens[-(lm.n-1):] if lm.n>1 else [])\n",
    "    items = sorted(dist.items(), key=lambda x: x[1], reverse=True)[:k]\n",
    "    print(\"Context:\", \" \".join(context_tokens[-(lm.n-1):]))\n",
    "    for w, p in items:\n",
    "        print(f\"{w:>12s}  {p:.4f}\")\n",
    "\n",
    "context = tokenize(\"the children\")\n",
    "show_topk_distribution(chosen, context, k=12)\n",
    "\n",
    "print(\"\\nTemperature = 0.7\")\n",
    "print(chosen.sample(prompt=context, temperature=0.7, max_len=30))\n",
    "print(\"\\nTemperature = 1.0\")\n",
    "print(chosen.sample(prompt=context, temperature=1.0, max_len=30))\n",
    "print(\"\\nTemperature = 1.3\")\n",
    "print(chosen.sample(prompt=context, temperature=1.3, max_len=30))\n"
   ]
  },
  {
   "cell_type": "code",
   "execution_count": 9,
   "id": "5290e449",
   "metadata": {},
   "outputs": [
    {
     "data": {
      "image/png": "[encoded data removed]",
      "text/plain": [
       "<Figure size 800x400 with 1 Axes>"
      ]
     },
     "metadata": {},
     "output_type": "display_data"
    }
   ],
   "source": [
    "\n",
    "# Bar chart for next-word distribution (top 12)\n",
    "dist = chosen.distribution(context[-(chosen.n-1):] if chosen.n>1 else [])\n",
    "items = sorted(dist.items(), key=lambda x: x[1], reverse=True)[:12]\n",
    "words = [w for w,_ in items]\n",
    "probs = [p for _,p in items]\n",
    "\n",
    "plt.figure(figsize=(8,4))\n",
    "plt.bar(words, probs)\n",
    "plt.title(\"Top-12 Next-Word Probabilities for Context: 'the children'\")\n",
    "plt.xlabel(\"Next word\")\n",
    "plt.ylabel(\"Probability\")\n",
    "plt.xticks(rotation=45, ha='right')\n",
    "plt.tight_layout()\n",
    "plt.show()\n"
   ]
  },
  {
   "cell_type": "markdown",
   "id": "929dc5c0",
   "metadata": {},
   "source": [
    "\n",
    "## Analysis & Discussion\n",
    "- **Perplexity & Context (RQ1):** We examine how adding context (larger N) lowers perplexity on held‑out text. In small corpora, gains may plateau quickly due to data sparsity.  \n",
    "- **Smoothing (RQ2):** Higher `k` increases probability mass for unseen events (helpful for robustness) but can raise perplexity slightly.  \n",
    "- **Temperature (RQ3):** Lower temperatures sharpen distributions (safer, repetitive); higher temperatures flatten them (more diverse, riskier).  \n",
    "- **Limitations (RQ4):** The N‑gram LM cannot track long‑range structure, factual knowledge, or complex syntax as reliably as Transformers. It also struggles with open‑vocabulary issues and compounding sparsity for large N.\n",
    "\n",
    "### Ethical Considerations\n",
    "- **Bias & Fairness:** Even simple LMs mirror biases in data. Curate corpora and audit outputs.  \n",
    "- **Transparency:** Report data composition and training choices.  \n",
    "- **Safety:** Avoid generating harmful or personal data; add filters or constraints if deploying.  \n",
    "- **Reproducibility:** Seed randomness and document preprocessing.\n"
   ]
  },
  {
   "cell_type": "markdown",
   "id": "0d843747",
   "metadata": {},
   "source": [
    "\n",
    "## Relation to Modern LMs (GPT/BERT)\n",
    "- **GPT‑style** autoregressive Transformers model the full left‑to‑right distribution with **self‑attention** and can capture far longer contexts than N‑grams.  \n",
    "- **BERT** is a **masked‑language model** trained bidirectionally for representation learning; it excels at understanding tasks (classification, QA) but is not a generative LM in the same way.  \n",
    "- Despite scale differences, **core metrics** (like perplexity) and **sampling controls** (like temperature) remain conceptually connected across LM families.\n"
   ]
  },
  {
   "cell_type": "markdown",
   "id": "264339aa",
   "metadata": {},
   "source": [
    "\n",
    "## Conclusion & Future Work\n",
    "**Findings:** On this corpus, increasing N from 1→3 typically lowers perplexity; smoothing and temperature shape robustness vs creativity.  \n",
    "**Future Work:**  \n",
    "- Add **Kneser–Ney** or **interpolated backoff** smoothing.  \n",
    "- Scale to larger **domain‑specific corpora** and compare to small pretrained Transformers.  \n",
    "- Add **evaluation tasks** (cloze tests, coherence judgments).  \n",
    "- Integrate **toxicity / bias** checks and data statements.\n",
    "\n",
    "**Takeaway:** Even a compact N‑gram LM offers a clear window into LM fundamentals and a strong didactic baseline for understanding GPT‑class models.\n"
   ]
  },
  {
   "cell_type": "markdown",
   "id": "0987324e",
   "metadata": {},
   "source": [
    "\n",
    "## How to Use\n",
    "- Run all cells top‑to‑bottom.\n",
    "- Adjust `N` and `k` in the training cell; change `context` and `temperature` in the exploration section.\n",
    "- Replace `corpus_text` with your own dataset to adapt to different domains.\n"
   ]
  }
 ],
 "metadata": {
  "kernelspec": {
   "display_name": ".venv",
   "language": "python",
   "name": "python3"
  },
  "language_info": {
   "codemirror_mode": {
    "name": "ipython",
    "version": 3
   },
   "file_extension": ".py",
   "mimetype": "text/x-python",
   "name": "python",
   "nbconvert_exporter": "python",
   "pygments_lexer": "ipython3",
   "version": "3.13.3"
  }
 },
 "nbformat": 4,
 "nbformat_minor": 5
}
